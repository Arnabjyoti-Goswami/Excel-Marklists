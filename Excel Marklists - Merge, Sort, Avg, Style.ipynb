{
 "cells": [
  {
   "cell_type": "markdown",
   "metadata": {},
   "source": [
    "# Import dependancies and save the current path of the jupyter notebook or the python script"
   ]
  },
  {
   "cell_type": "code",
   "execution_count": null,
   "metadata": {},
   "outputs": [],
   "source": [
    "import pandas as pd\n",
    "from openpyxl.styles import Alignment, Font, Border, Side\n",
    "\n",
    "import os\n",
    "\n",
    "nb_dir = os.path.abspath('')"
   ]
  },
  {
   "cell_type": "markdown",
   "metadata": {},
   "source": [
    "# Make a sorting function that will sort the dataframe by a single column. \n",
    "The rows with the non-numeric data-types will be placed at the bottom. And the rows with the numeric data-types will be sorted in descending order (can change to ascending if required)."
   ]
  },
  {
   "cell_type": "code",
   "execution_count": null,
   "metadata": {},
   "outputs": [],
   "source": [
    "def sort_df_column(df, sort_column):\n",
    "  if sort_column in df.columns:\n",
    "    # Create a mask for non-numeric values\n",
    "    non_numeric_mask = ~df[sort_column].apply(lambda x: isinstance(x, (int, float)))\n",
    "\n",
    "    # Sort the DataFrame using the mask\n",
    "    df_numeric = df[~non_numeric_mask].sort_values(by=sort_column, ascending=False)\n",
    "    df_non_numeric = df[non_numeric_mask].sort_values(by=sort_column, ascending=False)\n",
    "\n",
    "    # Concatenate the sorted DataFrames to combine numeric and non-numeric values\n",
    "    sorted_df = pd.concat([df_numeric, df_non_numeric])\n",
    "\n",
    "    # Reset the index to maintain a continuous index\n",
    "    sorted_df.reset_index(drop=True, inplace=True)\n",
    "\n",
    "    return sorted_df\n",
    "  else:\n",
    "    print(f\"Warning: Column '{sort_column}' not found in the DataFrame. Skipping sorting...\")\n",
    "    return df"
   ]
  },
  {
   "cell_type": "markdown",
   "metadata": {},
   "source": [
    "# Add a row at the bottom of the dataframe that says the average for all the columns\n",
    "The column from where we want to start that average value columns is set to column number 3 (index 2) in this function, you can change it accordingly based on where is the name column of the student, after which there are only numeric value columns: Like Marks in Exam1, Marks in Exam2, and so on."
   ]
  },
  {
   "cell_type": "code",
   "execution_count": null,
   "metadata": {},
   "outputs": [],
   "source": [
    "def find_avg(df, skip_non_numeric=True, start_num_col=4):\n",
    "  start_num_col -= 1 # convert to indexing starts from 0 format for the column number starting from which we want to find the averages for\n",
    "  cols = df.iloc[:, start_num_col:]\n",
    "  # cols = df.iloc[:, start_num_col:].select_dtypes(include='number')  # Would not work for columns that have some few string values like 'Absent', etc., for the students that didn't give the test, so the whole column is not consistently of numeric data type.\n",
    "  \n",
    "  if skip_non_numeric:\n",
    "    cols = cols.apply(pd.to_numeric, errors='coerce')  # Convert non-numeric values to NaN\n",
    "  else:\n",
    "    cols = cols.apply(pd.to_numeric, errors='coerce')\n",
    "    cols = cols.fillna(0)  # Replace NaN values (resulting from non-numeric values) with 0\n",
    "\n",
    "  # Calculate the average for numeric columns (starting from 3rd column)\n",
    "  avg_row = cols.mean()\n",
    "  label = pd.Series(['AVERAGE'])\n",
    "  avg_row = pd.concat([label, avg_row], ignore_index=True)\n",
    "\n",
    "  # Make that series into an appropriate df to be appended to the original df\n",
    "  start_col = start_num_col - 1\n",
    "  avg_row = pd.DataFrame([avg_row.values], columns=df.columns[start_col:])\n",
    "  \n",
    "  # Concatenate the 2 df's\n",
    "  df = pd.concat([df, avg_row], ignore_index=True)\n",
    "  \n",
    "  # Format the average values so that they are rounded to two decimal places\n",
    "  df.iloc[-1, start_num_col:] = df.iloc[-1, start_num_col:].apply(lambda x: round(x, 2))\n",
    "\n",
    "  return df"
   ]
  },
  {
   "cell_type": "markdown",
   "metadata": {},
   "source": [
    "# Take input of all the excel filenames specified in the App, and return a merged dataframe"
   ]
  },
  {
   "cell_type": "code",
   "execution_count": null,
   "metadata": {},
   "outputs": [],
   "source": [
    "def excel_list_to_df_dict(excel_list):\n",
    "  dfs_dict = {}\n",
    "  for file in excel_list:\n",
    "    file_path = os.path.join(nb_dir, file + '.xlsx')\n",
    "    df = pd.read_excel(file_path)\n",
    "    dfs_dict[file] = df\n",
    "\n",
    "  return dfs_dict\n",
    "\n",
    "def merge_df_dict(dfs_dict):\n",
    "  concatenated_df = pd.concat(dfs_dict.values(), ignore_index=True)\n",
    "  return concatenated_df"
   ]
  },
  {
   "cell_type": "markdown",
   "metadata": {},
   "source": [
    "# Main Function"
   ]
  },
  {
   "cell_type": "code",
   "execution_count": null,
   "metadata": {},
   "outputs": [],
   "source": [
    "def generate_merged_excel(filename, excel_list, output_excel_sheetname, start_num_col, sort_column=None, skip_non_numeric=False):\n",
    "  filepath = os.path.join(nb_dir, filename + '.xlsx')\n",
    "\n",
    "  dfs_dict = excel_list_to_df_dict(excel_list)\n",
    "  df = merge_df_dict(dfs_dict)\n",
    "\n",
    "  # Sorting must be done before adding the average values at the end\n",
    "  # (else it will consider the average values as part of the values while sorting)\n",
    "  if sort_column is not None:\n",
    "    df = sort_df_column(df, sort_column)\n",
    "\n",
    "  df = find_avg(df, skip_non_numeric, start_num_col)\n",
    "  \n",
    "  # Create an ExcelWriter object with 'openpyxl' engine\n",
    "  with pd.ExcelWriter(filepath, engine='openpyxl') as writer:\n",
    "    df.to_excel(writer, sheet_name=output_excel_sheetname, index=False, startrow=0, startcol=0)\n",
    "\n",
    "    workbook = writer.book\n",
    "    worksheet = writer.sheets[output_excel_sheetname]\n",
    "\n",
    "\n",
    "    # Adjust the column width for all columns\n",
    "    for column in worksheet.columns:\n",
    "      max_length = 0\n",
    "      column_name = column[0].column_letter  # Get the column name (e.g., 'A', 'B', 'C', ...)\n",
    "\n",
    "      for cell in column: # Find the length of the longest content in each column\n",
    "        if len(str(cell.value)) > max_length:\n",
    "          max_length = len(cell.value)\n",
    "        \n",
    "      adjusted_width = (max_length + 2) # adjusts the width of all columns in the Excel worksheet to accommodate the longest content in each column. You can adjust the adjusted_width calculation to fit your specific formatting needs.\n",
    "      worksheet.column_dimensions[column_name].width = adjusted_width\n",
    "\n",
    "    # Adjust the row height and align all cells to center for all rows from 2nd to last\n",
    "    for row in worksheet.iter_rows(min_row=2, max_row=worksheet.max_row):\n",
    "      for cell in row:\n",
    "        cell.alignment = Alignment(wrap_text=True, horizontal='center', vertical='center')\n",
    "        worksheet.row_dimensions[cell.row].height = 20\n",
    "\n",
    "    # Style the 1st row with a bigger height and bold text\n",
    "    for row in worksheet.iter_rows(min_row=1, max_row=1):\n",
    "      for cell in row:\n",
    "        cell.font = Font(bold=True)  # Set text to bold\n",
    "        cell.alignment = Alignment(wrap_text=True, horizontal='center', vertical='center') # Center it\n",
    "        worksheet.row_dimensions[cell.row].height = 30  # Set a bigger row height\n",
    "\n",
    "    # Style the last row (average) with a bigger height and bold text\n",
    "    for row in worksheet.iter_rows(min_row=worksheet.max_row, max_row=worksheet.max_row):\n",
    "      for cell in row:\n",
    "        cell.font = Font(bold=True)  # Set text to bold\n",
    "        worksheet.row_dimensions[cell.row].height = 30  # Set a bigger row height\n",
    "        cell.alignment = Alignment(horizontal='center', vertical='center')\n",
    "\n",
    "    # Create and apply a default black line border to all cells\n",
    "    border = Border(\n",
    "      left=Side(style='thin', color='000000'),\n",
    "      right=Side(style='thin', color='000000'),\n",
    "      top=Side(style='thin', color='000000'),\n",
    "      bottom=Side(style='thin', color='000000')\n",
    "    )\n",
    "    for row in worksheet.iter_rows():\n",
    "      for cell in row:\n",
    "        cell.border = border\n",
    "\n",
    "    # Save the final styled excel sheet\n",
    "    df.to_excel(writer, sheet_name=output_excel_sheetname, index=False, startrow=0, startcol=0)\n",
    "\n",
    "    print(f\"{filename}.xlsx saved to '{filepath}' successfully\")"
   ]
  },
  {
   "cell_type": "markdown",
   "metadata": {},
   "source": [
    "# APP\n",
    "\n",
    "Before running the cell below, ensure that \n",
    "- the excel file has the different column headings as the first row, and not something like the first row as a title of the marklist by deleting the first row\n",
    "- the excel file is in the same directory as this notebook. "
   ]
  },
  {
   "cell_type": "code",
   "execution_count": null,
   "metadata": {},
   "outputs": [],
   "source": [
    "excel_input_file_list = ['Midsem Final Markslist']\n",
    "\n",
    "output_excel_filename = 'Output'\n",
    "output_excel_sheetname = 'MergedSheet'\n",
    "\n",
    "# copy and paste the whole column heading cell of the column you want to Sort By\n",
    "column_to_sort_by = '''\n",
    "Total Marks (92M)\n",
    "''' \n",
    "num_cols_start = 4 # the column number where the numeric values start (usually the column just after the name or the ID in marklists)\n",
    "skip_non_numeric_values = False # whether you want to skip non numeric values (like 'Absent', missing values, etc.) in the numeric columns for the calculation of average values.\n",
    "\n",
    "generate_merged_excel(\n",
    "filename=output_excel_filename, \n",
    "excel_list=excel_input_file_list, \n",
    "output_excel_sheetname=output_excel_sheetname, \n",
    "start_num_col=num_cols_start, \n",
    "skip_non_numeric=skip_non_numeric_values,\n",
    "sort_column=column_to_sort_by,\n",
    ")"
   ]
  }
 ],
 "metadata": {
  "kernelspec": {
   "display_name": "Python 3",
   "language": "python",
   "name": "python3"
  },
  "language_info": {
   "codemirror_mode": {
    "name": "ipython",
    "version": 3
   },
   "file_extension": ".py",
   "mimetype": "text/x-python",
   "name": "python",
   "nbconvert_exporter": "python",
   "pygments_lexer": "ipython3",
   "version": "3.11.5"
  },
  "orig_nbformat": 4
 },
 "nbformat": 4,
 "nbformat_minor": 2
}
